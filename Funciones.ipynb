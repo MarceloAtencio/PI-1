{
 "cells": [
  {
   "cell_type": "code",
   "execution_count": 1,
   "metadata": {},
   "outputs": [],
   "source": [
    "import pandas as pd\n",
    "import zipfile"
   ]
  },
  {
   "cell_type": "markdown",
   "metadata": {},
   "source": [
    "PRIMERA FUNCIÓN"
   ]
  },
  {
   "cell_type": "code",
   "execution_count": 2,
   "metadata": {},
   "outputs": [],
   "source": [
    "def PlayTimeGenre(genero):\n",
    "\n",
    "    zip_file = 'PI_1.zip'\n",
    "    \n",
    "    with zipfile.ZipFile(zip_file, 'r') as zip_ref:\n",
    "        zip_ref.extractall('../data/')  # Descomprime los archivos en el directorio '../data/'\n",
    "\n",
    "    # Cargar el archivo CSV en un DataFrame\n",
    "    df = pd.read_csv(\"../data/PlayTimeGenre.csv\")\n",
    "\n",
    "    # Filtrar el DataFrame para el género específico\n",
    "    df_genero = df[df['Genero'] == genero]\n",
    "\n",
    "    # Encontrar el año con más horas jugadas para ese género\n",
    "    año_max_playtime = df_genero.loc[df_genero['playtime_forever'].idxmax(), 'Año_Lanzamiento']\n",
    "\n",
    "    # Crear la leyenda\n",
    "    leyenda = f\"Año de lanzamiento con más horas jugadas para Género {genero}: {año_max_playtime}\"\n",
    "\n",
    "    return leyenda"
   ]
  },
  {
   "cell_type": "code",
   "execution_count": 3,
   "metadata": {},
   "outputs": [
    {
     "name": "stdout",
     "output_type": "stream",
     "text": [
      "Año de lanzamiento con más horas jugadas para Género Adventure: 2011\n"
     ]
    }
   ],
   "source": [
    "resultado = PlayTimeGenre(\"Adventure\")\n",
    "print(resultado)"
   ]
  },
  {
   "cell_type": "markdown",
   "metadata": {},
   "source": [
    "SEGUNDA FUNCIÓN"
   ]
  },
  {
   "cell_type": "code",
   "execution_count": 14,
   "metadata": {},
   "outputs": [],
   "source": [
    "def UserForGenre(genero):\n",
    "    # Leer el DataFrame desde el archivo CSV\n",
    "    dataframe = pd.read_csv(\"../PI 1/ETL/03 - Dataframe para funciones/UserForGenre.csv\")\n",
    "\n",
    "    # Filtrar el DataFrame por el género dado\n",
    "    genre_df = dataframe[dataframe['Genero'] == genero]\n",
    "\n",
    "    if genre_df.empty:\n",
    "        return {\"error\": \"No hay datos para el género proporcionado\"}\n",
    "\n",
    "    # Encontrar el usuario con más horas jugadas\n",
    "    max_hours_user = genre_df.loc[genre_df['Cant_hs_juego'].idxmax()]['Id_user']\n",
    "\n",
    "    # Agrupar por año y sumar las horas jugadas\n",
    "    hours_by_year = genre_df.groupby('Año_Lanzamiento')['Cant_hs_juego'].sum().reset_index()\n",
    "\n",
    "    # Convertir el resultado a un formato de lista de diccionarios\n",
    "    hours_list = [{'Año': int(row['Año_Lanzamiento']), 'Horas': int(row['Cant_hs_juego'])} for index, row in hours_by_year.iterrows()]\n",
    "\n",
    "    # Crear el resultado final en el formato deseado\n",
    "    result = {\"Usuario con más horas jugadas para Género {}\".format(genero): max_hours_user, \"Horas jugadas\": hours_list}\n",
    "\n",
    "    return result"
   ]
  },
  {
   "cell_type": "code",
   "execution_count": 16,
   "metadata": {},
   "outputs": [
    {
     "name": "stdout",
     "output_type": "stream",
     "text": [
      "{'Usuario con más horas jugadas para Género Action': 'Evilutional', 'Horas jugadas': [{'Año': 1983, 'Horas': 3582}, {'Año': 1984, 'Horas': 384}, {'Año': 1988, 'Horas': 16243}, {'Año': 1989, 'Horas': 607}, {'Año': 1990, 'Horas': 5}, {'Año': 1991, 'Horas': 2203}, {'Año': 1992, 'Horas': 1925}, {'Año': 1993, 'Horas': 11487}, {'Año': 1994, 'Horas': 39862}, {'Año': 1995, 'Horas': 64605}, {'Año': 1996, 'Horas': 51726}, {'Año': 1997, 'Horas': 271013}, {'Año': 1998, 'Horas': 2794545}, {'Año': 1999, 'Horas': 2712695}, {'Año': 2000, 'Horas': 18553775}, {'Año': 2001, 'Horas': 1255120}, {'Año': 2002, 'Horas': 725264}, {'Año': 2003, 'Horas': 9906989}, {'Año': 2004, 'Horas': 130469301}, {'Año': 2005, 'Horas': 5670622}, {'Año': 2006, 'Horas': 6856912}, {'Año': 2007, 'Horas': 11277605}, {'Año': 2008, 'Horas': 27861445}, {'Año': 2009, 'Horas': 154187567}, {'Año': 2010, 'Horas': 105698399}, {'Año': 2011, 'Horas': 303958972}, {'Año': 2012, 'Horas': 1021504063}, {'Año': 2013, 'Horas': 396536510}, {'Año': 2014, 'Horas': 132883113}, {'Año': 2015, 'Horas': 167729321}, {'Año': 2016, 'Horas': 62970783}, {'Año': 2017, 'Horas': 126299093}, {'Año': 2018, 'Horas': 2224}]}\n"
     ]
    }
   ],
   "source": [
    "resultado = UserForGenre(\"Action\")\n",
    "print(resultado)"
   ]
  },
  {
   "cell_type": "markdown",
   "metadata": {},
   "source": [
    "TERCER FUNCIÓN"
   ]
  },
  {
   "cell_type": "code",
   "execution_count": 25,
   "metadata": {},
   "outputs": [],
   "source": [
    "def UsersRecommend(year):\n",
    "    # Leer el DataFrame desde el archivo CSV\n",
    "    dataframe = pd.read_csv(\"../PI 1/ETL/03 - Dataframe para funciones/UsersRecommend.csv\")\n",
    "    \n",
    "    # Filtrar el DataFrame por el año dado\n",
    "    year_df = dataframe[dataframe['Año'] == year]\n",
    "\n",
    "    if year_df.empty:\n",
    "        return {\"error\": \"No hay datos para el año proporcionado\"}\n",
    "\n",
    "    # Ordenar el DataFrame por la cantidad de recomendaciones en orden descendente\n",
    "    sorted_df = year_df.sort_values(by='Cant_rec', ascending=False)\n",
    "\n",
    "    # Tomar los tres juegos más recomendados\n",
    "    top3_games = sorted_df.head(3)['Nombre_juego'].tolist()\n",
    "\n",
    "    # Convertir el resultado a un formato de lista de diccionarios con los puestos correctos\n",
    "    result = [{\"Puesto {}\".format(i + 1): juego} for i, juego in enumerate(top3_games)]\n",
    "\n",
    "    return result"
   ]
  },
  {
   "cell_type": "code",
   "execution_count": 26,
   "metadata": {},
   "outputs": [
    {
     "name": "stdout",
     "output_type": "stream",
     "text": [
      "[{'Puesto 1': 'Counter-Strike: Global Offensive'}, {'Puesto 2': \"Garry's Mod\"}, {'Puesto 3': 'PAYDAY 2'}]\n"
     ]
    }
   ],
   "source": [
    "resultado = UsersRecommend(2015)\n",
    "print(resultado)"
   ]
  },
  {
   "cell_type": "markdown",
   "metadata": {},
   "source": [
    "CUARTA FUNCIÓN"
   ]
  },
  {
   "cell_type": "code",
   "execution_count": 27,
   "metadata": {},
   "outputs": [],
   "source": [
    "def UsersNotRecommend(year):\n",
    "    # Leer el DataFrame desde el archivo CSV\n",
    "    dataframe = pd.read_csv(\"../PI 1/ETL/03 - Dataframe para funciones/UsersNotRecommend.csv\")\n",
    "\n",
    "    # Filtrar el DataFrame por el año dado\n",
    "    year_df = dataframe[dataframe['Año'] == year]\n",
    "\n",
    "    if year_df.empty:\n",
    "        return {\"error\": \"No hay datos para el año proporcionado\"}\n",
    "\n",
    "    # Ordenar el DataFrame por la cantidad de recomendaciones en orden ascendente\n",
    "    sorted_df = year_df.sort_values(by='Cant_rec')\n",
    "\n",
    "    # Tomar los tres juegos menos recomendados\n",
    "    bottom3_games = sorted_df.head(3)['Nombre_juego'].tolist()\n",
    "\n",
    "    # Convertir el resultado a un formato de lista de diccionarios con los puestos correctos\n",
    "    result = [{\"Puesto {}\".format(i + 1): juego} for i, juego in enumerate(bottom3_games)]\n",
    "\n",
    "    return result"
   ]
  },
  {
   "cell_type": "code",
   "execution_count": 29,
   "metadata": {},
   "outputs": [
    {
     "name": "stdout",
     "output_type": "stream",
     "text": [
      "[{'Puesto 1': 'Dead Island'}, {'Puesto 2': 'Fable III'}, {'Puesto 3': 'Men of War: Vietnam'}]\n"
     ]
    }
   ],
   "source": [
    "resultado = UsersNotRecommend(2011)\n",
    "print(resultado)"
   ]
  },
  {
   "cell_type": "markdown",
   "metadata": {},
   "source": [
    "QUINTA FUNCIÓN"
   ]
  },
  {
   "cell_type": "code",
   "execution_count": 4,
   "metadata": {},
   "outputs": [],
   "source": [
    "def sentiment_analysis(year):\n",
    "    # Leer el DataFrame desde el archivo CSV\n",
    "    dataframe = pd.read_csv(\"../PI 1/ETL/03 - Dataframe para funciones/sentiment_analysis.csv\")\n",
    "\n",
    "    # Filtrar el DataFrame por el año dado\n",
    "    year_df = dataframe[dataframe['Año_Lanzamiento'] == year]\n",
    "\n",
    "    if year_df.empty:\n",
    "        return {\"error\": \"No hay datos para el año proporcionado\"}\n",
    "\n",
    "    # Obtener la cantidad de registros para cada categoría de análisis de sentimiento\n",
    "    negative_records = year_df[year_df['sentiment_analysis'] == 0]['Cant_reg'].sum()\n",
    "    neutral_records = year_df[year_df['sentiment_analysis'] == 1]['Cant_reg'].sum()\n",
    "    positive_records = year_df[year_df['sentiment_analysis'] == 2]['Cant_reg'].sum()\n",
    "\n",
    "    # Crear el resultado en el formato deseado\n",
    "    result = {\"Negative\": negative_records,\n",
    "              \"Neutral\": neutral_records,\n",
    "              \"Positive\": positive_records}\n",
    "\n",
    "    return result"
   ]
  },
  {
   "cell_type": "code",
   "execution_count": 7,
   "metadata": {},
   "outputs": [
    {
     "name": "stdout",
     "output_type": "stream",
     "text": [
      "{'Negative': 259, 'Neutral': 335, 'Positive': 997}\n"
     ]
    }
   ],
   "source": [
    "\n",
    "resultado = sentiment_analysis(2017)\n",
    "print(resultado)"
   ]
  },
  {
   "cell_type": "code",
   "execution_count": 8,
   "metadata": {},
   "outputs": [],
   "source": [
    "def sentiment_analysis2(year):\n",
    "    # Leer el DataFrame desde el archivo CSV\n",
    "    dataframe = pd.read_csv(\"../PI 1/ETL/03 - Dataframe para funciones/sentiment_analysis.csv\")\n",
    "\n",
    "    # Filtrar el DataFrame por el año dado\n",
    "    df_filtrado = dataframe[dataframe['Año_Lanzamiento'] == year]\n",
    "    \n",
    "    # Agrupar por análisis de sentimiento y sumar la cantidad de registros\n",
    "    resultados = df_filtrado.groupby('sentiment_analysis')['Cant_reg'].sum().to_dict()\n",
    "\n",
    "    # Mapear el valor numérico de sentimiento a su correspondiente etiqueta\n",
    "    resultados = {\n",
    "        'Negative': resultados.get(0, 0),\n",
    "        'Neutral': resultados.get(1, 0),\n",
    "        'Positive': resultados.get(2, 0)\n",
    "    }\n",
    "\n",
    "    return resultados"
   ]
  },
  {
   "cell_type": "code",
   "execution_count": 9,
   "metadata": {},
   "outputs": [
    {
     "name": "stdout",
     "output_type": "stream",
     "text": [
      "{'Negative': 259, 'Neutral': 335, 'Positive': 997}\n"
     ]
    }
   ],
   "source": [
    "resultado = sentiment_analysis2(2017)\n",
    "print(resultado)"
   ]
  }
 ],
 "metadata": {
  "kernelspec": {
   "display_name": "Python 3",
   "language": "python",
   "name": "python3"
  },
  "language_info": {
   "codemirror_mode": {
    "name": "ipython",
    "version": 3
   },
   "file_extension": ".py",
   "mimetype": "text/x-python",
   "name": "python",
   "nbconvert_exporter": "python",
   "pygments_lexer": "ipython3",
   "version": "3.11.3"
  }
 },
 "nbformat": 4,
 "nbformat_minor": 2
}
