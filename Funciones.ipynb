{
 "cells": [
  {
   "cell_type": "code",
   "execution_count": 1,
   "metadata": {},
   "outputs": [],
   "source": [
    "import pandas as pd\n",
    "import zipfile"
   ]
  },
  {
   "cell_type": "markdown",
   "metadata": {},
   "source": [
    "PRIMERA FUNCIÓN"
   ]
  },
  {
   "cell_type": "code",
   "execution_count": 2,
   "metadata": {},
   "outputs": [],
   "source": [
    "def PlayTimeGenre(genero):\n",
    "\n",
    "    zip_file = 'PI_1.zip'\n",
    "    \n",
    "    with zipfile.ZipFile(zip_file, 'r') as zip_ref:\n",
    "        zip_ref.extractall('../data/')  # Descomprime los archivos en el directorio '../data/'\n",
    "\n",
    "    # Cargar el archivo CSV en un DataFrame\n",
    "    df = pd.read_csv(\"../data/PlayTimeGenre.csv\")\n",
    "\n",
    "    # Filtrar el DataFrame para el género específico\n",
    "    df_genero = df[df['Genero'] == genero]\n",
    "\n",
    "    # Encontrar el año con más horas jugadas para ese género\n",
    "    año_max_playtime = df_genero.loc[df_genero['playtime_forever'].idxmax(), 'Año_Lanzamiento']\n",
    "\n",
    "    # Crear la leyenda\n",
    "    leyenda = f\"Año de lanzamiento con más horas jugadas para Género {genero}: {año_max_playtime}\"\n",
    "\n",
    "    return leyenda"
   ]
  },
  {
   "cell_type": "code",
   "execution_count": 3,
   "metadata": {},
   "outputs": [
    {
     "name": "stdout",
     "output_type": "stream",
     "text": [
      "Año de lanzamiento con más horas jugadas para Género Adventure: 2011\n"
     ]
    }
   ],
   "source": [
    "resultado = PlayTimeGenre(\"Adventure\")\n",
    "print(resultado)"
   ]
  },
  {
   "cell_type": "markdown",
   "metadata": {},
   "source": [
    "SEGUNDA FUNCIÓN"
   ]
  },
  {
   "cell_type": "code",
   "execution_count": 14,
   "metadata": {},
   "outputs": [],
   "source": [
    "def UserForGenre(genero):\n",
    "    # Leer el DataFrame desde el archivo CSV\n",
    "    dataframe = pd.read_csv(\"../PI 1/ETL/03 - Dataframe para funciones/UserForGenre.csv\")\n",
    "\n",
    "    # Filtrar el DataFrame por el género dado\n",
    "    genre_df = dataframe[dataframe['Genero'] == genero]\n",
    "\n",
    "    if genre_df.empty:\n",
    "        return {\"error\": \"No hay datos para el género proporcionado\"}\n",
    "\n",
    "    # Encontrar el usuario con más horas jugadas\n",
    "    max_hours_user = genre_df.loc[genre_df['Cant_hs_juego'].idxmax()]['Id_user']\n",
    "\n",
    "    # Agrupar por año y sumar las horas jugadas\n",
    "    hours_by_year = genre_df.groupby('Año_Lanzamiento')['Cant_hs_juego'].sum().reset_index()\n",
    "\n",
    "    # Convertir el resultado a un formato de lista de diccionarios\n",
    "    hours_list = [{'Año': int(row['Año_Lanzamiento']), 'Horas': int(row['Cant_hs_juego'])} for index, row in hours_by_year.iterrows()]\n",
    "\n",
    "    # Crear el resultado final en el formato deseado\n",
    "    result = {\"Usuario con más horas jugadas para Género {}\".format(genero): max_hours_user, \"Horas jugadas\": hours_list}\n",
    "\n",
    "    return result"
   ]
  },
  {
   "cell_type": "code",
   "execution_count": 16,
   "metadata": {},
   "outputs": [
    {
     "name": "stdout",
     "output_type": "stream",
     "text": [
      "{'Usuario con más horas jugadas para Género Action': 'Evilutional', 'Horas jugadas': [{'Año': 1983, 'Horas': 3582}, {'Año': 1984, 'Horas': 384}, {'Año': 1988, 'Horas': 16243}, {'Año': 1989, 'Horas': 607}, {'Año': 1990, 'Horas': 5}, {'Año': 1991, 'Horas': 2203}, {'Año': 1992, 'Horas': 1925}, {'Año': 1993, 'Horas': 11487}, {'Año': 1994, 'Horas': 39862}, {'Año': 1995, 'Horas': 64605}, {'Año': 1996, 'Horas': 51726}, {'Año': 1997, 'Horas': 271013}, {'Año': 1998, 'Horas': 2794545}, {'Año': 1999, 'Horas': 2712695}, {'Año': 2000, 'Horas': 18553775}, {'Año': 2001, 'Horas': 1255120}, {'Año': 2002, 'Horas': 725264}, {'Año': 2003, 'Horas': 9906989}, {'Año': 2004, 'Horas': 130469301}, {'Año': 2005, 'Horas': 5670622}, {'Año': 2006, 'Horas': 6856912}, {'Año': 2007, 'Horas': 11277605}, {'Año': 2008, 'Horas': 27861445}, {'Año': 2009, 'Horas': 154187567}, {'Año': 2010, 'Horas': 105698399}, {'Año': 2011, 'Horas': 303958972}, {'Año': 2012, 'Horas': 1021504063}, {'Año': 2013, 'Horas': 396536510}, {'Año': 2014, 'Horas': 132883113}, {'Año': 2015, 'Horas': 167729321}, {'Año': 2016, 'Horas': 62970783}, {'Año': 2017, 'Horas': 126299093}, {'Año': 2018, 'Horas': 2224}]}\n"
     ]
    }
   ],
   "source": [
    "resultado = UserForGenre(\"Action\")\n",
    "print(resultado)"
   ]
  },
  {
   "cell_type": "markdown",
   "metadata": {},
   "source": [
    "TERCER FUNCIÓN"
   ]
  },
  {
   "cell_type": "code",
   "execution_count": 25,
   "metadata": {},
   "outputs": [],
   "source": [
    "def UsersRecommend(year):\n",
    "    # Leer el DataFrame desde el archivo CSV\n",
    "    dataframe = pd.read_csv(\"../PI 1/ETL/03 - Dataframe para funciones/UsersRecommend.csv\")\n",
    "    \n",
    "    # Filtrar el DataFrame por el año dado\n",
    "    year_df = dataframe[dataframe['Año'] == year]\n",
    "\n",
    "    if year_df.empty:\n",
    "        return {\"error\": \"No hay datos para el año proporcionado\"}\n",
    "\n",
    "    # Ordenar el DataFrame por la cantidad de recomendaciones en orden descendente\n",
    "    sorted_df = year_df.sort_values(by='Cant_rec', ascending=False)\n",
    "\n",
    "    # Tomar los tres juegos más recomendados\n",
    "    top3_games = sorted_df.head(3)['Nombre_juego'].tolist()\n",
    "\n",
    "    # Convertir el resultado a un formato de lista de diccionarios con los puestos correctos\n",
    "    result = [{\"Puesto {}\".format(i + 1): juego} for i, juego in enumerate(top3_games)]\n",
    "\n",
    "    return result"
   ]
  },
  {
   "cell_type": "code",
   "execution_count": 26,
   "metadata": {},
   "outputs": [
    {
     "name": "stdout",
     "output_type": "stream",
     "text": [
      "[{'Puesto 1': 'Counter-Strike: Global Offensive'}, {'Puesto 2': \"Garry's Mod\"}, {'Puesto 3': 'PAYDAY 2'}]\n"
     ]
    }
   ],
   "source": [
    "resultado = UsersRecommend(2015)\n",
    "print(resultado)"
   ]
  },
  {
   "cell_type": "markdown",
   "metadata": {},
   "source": [
    "CUARTA FUNCIÓN"
   ]
  },
  {
   "cell_type": "code",
   "execution_count": 27,
   "metadata": {},
   "outputs": [],
   "source": [
    "def UsersNotRecommend(year):\n",
    "    # Leer el DataFrame desde el archivo CSV\n",
    "    dataframe = pd.read_csv(\"../PI 1/ETL/03 - Dataframe para funciones/UsersNotRecommend.csv\")\n",
    "\n",
    "    # Filtrar el DataFrame por el año dado\n",
    "    year_df = dataframe[dataframe['Año'] == year]\n",
    "\n",
    "    if year_df.empty:\n",
    "        return {\"error\": \"No hay datos para el año proporcionado\"}\n",
    "\n",
    "    # Ordenar el DataFrame por la cantidad de recomendaciones en orden ascendente\n",
    "    sorted_df = year_df.sort_values(by='Cant_rec')\n",
    "\n",
    "    # Tomar los tres juegos menos recomendados\n",
    "    bottom3_games = sorted_df.head(3)['Nombre_juego'].tolist()\n",
    "\n",
    "    # Convertir el resultado a un formato de lista de diccionarios con los puestos correctos\n",
    "    result = [{\"Puesto {}\".format(i + 1): juego} for i, juego in enumerate(bottom3_games)]\n",
    "\n",
    "    return result"
   ]
  },
  {
   "cell_type": "code",
   "execution_count": 29,
   "metadata": {},
   "outputs": [
    {
     "name": "stdout",
     "output_type": "stream",
     "text": [
      "[{'Puesto 1': 'Dead Island'}, {'Puesto 2': 'Fable III'}, {'Puesto 3': 'Men of War: Vietnam'}]\n"
     ]
    }
   ],
   "source": [
    "resultado = UsersNotRecommend(2011)\n",
    "print(resultado)"
   ]
  },
  {
   "cell_type": "markdown",
   "metadata": {},
   "source": [
    "QUINTA FUNCIÓN"
   ]
  },
  {
   "cell_type": "code",
   "execution_count": 4,
   "metadata": {},
   "outputs": [],
   "source": [
    "def sentiment_analysis(year):\n",
    "    # Leer el DataFrame desde el archivo CSV\n",
    "    dataframe = pd.read_csv(\"../PI 1/ETL/03 - Dataframe para funciones/sentiment_analysis.csv\")\n",
    "\n",
    "    # Filtrar el DataFrame por el año dado\n",
    "    year_df = dataframe[dataframe['Año_Lanzamiento'] == year]\n",
    "\n",
    "    if year_df.empty:\n",
    "        return {\"error\": \"No hay datos para el año proporcionado\"}\n",
    "\n",
    "    # Obtener la cantidad de registros para cada categoría de análisis de sentimiento\n",
    "    negative_records = year_df[year_df['sentiment_analysis'] == 0]['Cant_reg'].sum()\n",
    "    neutral_records = year_df[year_df['sentiment_analysis'] == 1]['Cant_reg'].sum()\n",
    "    positive_records = year_df[year_df['sentiment_analysis'] == 2]['Cant_reg'].sum()\n",
    "\n",
    "    # Crear el resultado en el formato deseado\n",
    "    result = {\"Negative\": negative_records,\n",
    "              \"Neutral\": neutral_records,\n",
    "              \"Positive\": positive_records}\n",
    "\n",
    "    return result"
   ]
  },
  {
   "cell_type": "code",
   "execution_count": 7,
   "metadata": {},
   "outputs": [
    {
     "name": "stdout",
     "output_type": "stream",
     "text": [
      "{'Negative': 259, 'Neutral': 335, 'Positive': 997}\n"
     ]
    }
   ],
   "source": [
    "\n",
    "resultado = sentiment_analysis(2017)\n",
    "print(resultado)"
   ]
  },
  {
   "cell_type": "code",
   "execution_count": 8,
   "metadata": {},
   "outputs": [],
   "source": [
    "def sentiment_analysis2(year):\n",
    "    # Leer el DataFrame desde el archivo CSV\n",
    "    dataframe = pd.read_csv(\"../PI 1/ETL/03 - Dataframe para funciones/sentiment_analysis.csv\")\n",
    "\n",
    "    # Filtrar el DataFrame por el año dado\n",
    "    df_filtrado = dataframe[dataframe['Año_Lanzamiento'] == year]\n",
    "    \n",
    "    # Agrupar por análisis de sentimiento y sumar la cantidad de registros\n",
    "    resultados = df_filtrado.groupby('sentiment_analysis')['Cant_reg'].sum().to_dict()\n",
    "\n",
    "    # Mapear el valor numérico de sentimiento a su correspondiente etiqueta\n",
    "    resultados = {\n",
    "        'Negative': resultados.get(0, 0),\n",
    "        'Neutral': resultados.get(1, 0),\n",
    "        'Positive': resultados.get(2, 0)\n",
    "    }\n",
    "\n",
    "    return resultados"
   ]
  },
  {
   "cell_type": "code",
   "execution_count": 9,
   "metadata": {},
   "outputs": [
    {
     "name": "stdout",
     "output_type": "stream",
     "text": [
      "{'Negative': 259, 'Neutral': 335, 'Positive': 997}\n"
     ]
    }
   ],
   "source": [
    "resultado = sentiment_analysis2(2017)\n",
    "print(resultado)"
   ]
  },
  {
   "cell_type": "markdown",
   "metadata": {},
   "source": [
    "FUNCION PARA RECOMENDACION DE JUEGO - ML - SIMILITUD DE COSENO"
   ]
  },
  {
   "cell_type": "code",
   "execution_count": 17,
   "metadata": {},
   "outputs": [
    {
     "data": {
      "text/html": [
       "<div>\n",
       "<style scoped>\n",
       "    .dataframe tbody tr th:only-of-type {\n",
       "        vertical-align: middle;\n",
       "    }\n",
       "\n",
       "    .dataframe tbody tr th {\n",
       "        vertical-align: top;\n",
       "    }\n",
       "\n",
       "    .dataframe thead th {\n",
       "        text-align: right;\n",
       "    }\n",
       "</style>\n",
       "<table border=\"1\" class=\"dataframe\">\n",
       "  <thead>\n",
       "    <tr style=\"text-align: right;\">\n",
       "      <th></th>\n",
       "      <th>350330</th>\n",
       "      <th>466000</th>\n",
       "      <th>376770</th>\n",
       "      <th>546360</th>\n",
       "      <th>355970</th>\n",
       "      <th>200990</th>\n",
       "      <th>410480</th>\n",
       "      <th>393530</th>\n",
       "      <th>512230</th>\n",
       "      <th>390417</th>\n",
       "      <th>...</th>\n",
       "      <th>302180</th>\n",
       "      <th>414180</th>\n",
       "      <th>203773</th>\n",
       "      <th>500780</th>\n",
       "      <th>384380</th>\n",
       "      <th>582580</th>\n",
       "      <th>421670</th>\n",
       "      <th>290401</th>\n",
       "      <th>97379</th>\n",
       "      <th>741281</th>\n",
       "    </tr>\n",
       "    <tr>\n",
       "      <th>Nombre_juego</th>\n",
       "      <th></th>\n",
       "      <th></th>\n",
       "      <th></th>\n",
       "      <th></th>\n",
       "      <th></th>\n",
       "      <th></th>\n",
       "      <th></th>\n",
       "      <th></th>\n",
       "      <th></th>\n",
       "      <th></th>\n",
       "      <th></th>\n",
       "      <th></th>\n",
       "      <th></th>\n",
       "      <th></th>\n",
       "      <th></th>\n",
       "      <th></th>\n",
       "      <th></th>\n",
       "      <th></th>\n",
       "      <th></th>\n",
       "      <th></th>\n",
       "      <th></th>\n",
       "    </tr>\n",
       "  </thead>\n",
       "  <tbody>\n",
       "    <tr>\n",
       "      <th>Call of the Ninja!</th>\n",
       "      <td>1.000000</td>\n",
       "      <td>0.500000</td>\n",
       "      <td>0.707107</td>\n",
       "      <td>0.0</td>\n",
       "      <td>0.5</td>\n",
       "      <td>0.408248</td>\n",
       "      <td>0.5</td>\n",
       "      <td>0.534522</td>\n",
       "      <td>1.000000</td>\n",
       "      <td>0.500000</td>\n",
       "      <td>...</td>\n",
       "      <td>0.500000</td>\n",
       "      <td>0.5</td>\n",
       "      <td>0.0</td>\n",
       "      <td>0.816497</td>\n",
       "      <td>0.000000</td>\n",
       "      <td>0.816497</td>\n",
       "      <td>0.353553</td>\n",
       "      <td>0.0</td>\n",
       "      <td>0.0</td>\n",
       "      <td>0.632456</td>\n",
       "    </tr>\n",
       "    <tr>\n",
       "      <th>Maze: Subject 360 Collector's Edition</th>\n",
       "      <td>0.500000</td>\n",
       "      <td>1.000000</td>\n",
       "      <td>0.707107</td>\n",
       "      <td>0.0</td>\n",
       "      <td>0.5</td>\n",
       "      <td>0.000000</td>\n",
       "      <td>0.0</td>\n",
       "      <td>0.534522</td>\n",
       "      <td>0.500000</td>\n",
       "      <td>0.500000</td>\n",
       "      <td>...</td>\n",
       "      <td>1.000000</td>\n",
       "      <td>0.0</td>\n",
       "      <td>0.0</td>\n",
       "      <td>0.816497</td>\n",
       "      <td>0.707107</td>\n",
       "      <td>0.816497</td>\n",
       "      <td>0.000000</td>\n",
       "      <td>0.0</td>\n",
       "      <td>0.0</td>\n",
       "      <td>0.632456</td>\n",
       "    </tr>\n",
       "    <tr>\n",
       "      <th>Big Thinkers 1st Grade</th>\n",
       "      <td>0.707107</td>\n",
       "      <td>0.707107</td>\n",
       "      <td>1.000000</td>\n",
       "      <td>0.0</td>\n",
       "      <td>0.0</td>\n",
       "      <td>0.000000</td>\n",
       "      <td>0.0</td>\n",
       "      <td>0.377964</td>\n",
       "      <td>0.707107</td>\n",
       "      <td>0.707107</td>\n",
       "      <td>...</td>\n",
       "      <td>0.707107</td>\n",
       "      <td>0.0</td>\n",
       "      <td>0.0</td>\n",
       "      <td>0.577350</td>\n",
       "      <td>0.000000</td>\n",
       "      <td>0.577350</td>\n",
       "      <td>0.000000</td>\n",
       "      <td>0.0</td>\n",
       "      <td>0.0</td>\n",
       "      <td>0.447214</td>\n",
       "    </tr>\n",
       "    <tr>\n",
       "      <th>Driver Booster 4 Upgrade to Pro (Lifetime)</th>\n",
       "      <td>0.000000</td>\n",
       "      <td>0.000000</td>\n",
       "      <td>0.000000</td>\n",
       "      <td>1.0</td>\n",
       "      <td>0.0</td>\n",
       "      <td>0.000000</td>\n",
       "      <td>0.0</td>\n",
       "      <td>0.000000</td>\n",
       "      <td>0.000000</td>\n",
       "      <td>0.000000</td>\n",
       "      <td>...</td>\n",
       "      <td>0.000000</td>\n",
       "      <td>0.0</td>\n",
       "      <td>0.0</td>\n",
       "      <td>0.000000</td>\n",
       "      <td>0.000000</td>\n",
       "      <td>0.000000</td>\n",
       "      <td>0.000000</td>\n",
       "      <td>0.0</td>\n",
       "      <td>0.0</td>\n",
       "      <td>0.000000</td>\n",
       "    </tr>\n",
       "    <tr>\n",
       "      <th>Home is Where One Starts...</th>\n",
       "      <td>0.500000</td>\n",
       "      <td>0.500000</td>\n",
       "      <td>0.000000</td>\n",
       "      <td>0.0</td>\n",
       "      <td>1.0</td>\n",
       "      <td>0.408248</td>\n",
       "      <td>0.5</td>\n",
       "      <td>0.534522</td>\n",
       "      <td>0.500000</td>\n",
       "      <td>0.000000</td>\n",
       "      <td>...</td>\n",
       "      <td>0.500000</td>\n",
       "      <td>0.5</td>\n",
       "      <td>0.0</td>\n",
       "      <td>0.816497</td>\n",
       "      <td>0.707107</td>\n",
       "      <td>0.816497</td>\n",
       "      <td>0.353553</td>\n",
       "      <td>0.0</td>\n",
       "      <td>0.0</td>\n",
       "      <td>0.632456</td>\n",
       "    </tr>\n",
       "  </tbody>\n",
       "</table>\n",
       "<p>5 rows × 2733 columns</p>\n",
       "</div>"
      ],
      "text/plain": [
       "                                              350330    466000    376770  \\\n",
       "Nombre_juego                                                               \n",
       "Call of the Ninja!                          1.000000  0.500000  0.707107   \n",
       "Maze: Subject 360 Collector's Edition       0.500000  1.000000  0.707107   \n",
       "Big Thinkers 1st Grade                      0.707107  0.707107  1.000000   \n",
       "Driver Booster 4 Upgrade to Pro (Lifetime)  0.000000  0.000000  0.000000   \n",
       "Home is Where One Starts...                 0.500000  0.500000  0.000000   \n",
       "\n",
       "                                            546360  355970    200990  410480  \\\n",
       "Nombre_juego                                                                   \n",
       "Call of the Ninja!                             0.0     0.5  0.408248     0.5   \n",
       "Maze: Subject 360 Collector's Edition          0.0     0.5  0.000000     0.0   \n",
       "Big Thinkers 1st Grade                         0.0     0.0  0.000000     0.0   \n",
       "Driver Booster 4 Upgrade to Pro (Lifetime)     1.0     0.0  0.000000     0.0   \n",
       "Home is Where One Starts...                    0.0     1.0  0.408248     0.5   \n",
       "\n",
       "                                              393530    512230    390417  ...  \\\n",
       "Nombre_juego                                                              ...   \n",
       "Call of the Ninja!                          0.534522  1.000000  0.500000  ...   \n",
       "Maze: Subject 360 Collector's Edition       0.534522  0.500000  0.500000  ...   \n",
       "Big Thinkers 1st Grade                      0.377964  0.707107  0.707107  ...   \n",
       "Driver Booster 4 Upgrade to Pro (Lifetime)  0.000000  0.000000  0.000000  ...   \n",
       "Home is Where One Starts...                 0.534522  0.500000  0.000000  ...   \n",
       "\n",
       "                                              302180  414180  203773  \\\n",
       "Nombre_juego                                                           \n",
       "Call of the Ninja!                          0.500000     0.5     0.0   \n",
       "Maze: Subject 360 Collector's Edition       1.000000     0.0     0.0   \n",
       "Big Thinkers 1st Grade                      0.707107     0.0     0.0   \n",
       "Driver Booster 4 Upgrade to Pro (Lifetime)  0.000000     0.0     0.0   \n",
       "Home is Where One Starts...                 0.500000     0.5     0.0   \n",
       "\n",
       "                                              500780    384380    582580  \\\n",
       "Nombre_juego                                                               \n",
       "Call of the Ninja!                          0.816497  0.000000  0.816497   \n",
       "Maze: Subject 360 Collector's Edition       0.816497  0.707107  0.816497   \n",
       "Big Thinkers 1st Grade                      0.577350  0.000000  0.577350   \n",
       "Driver Booster 4 Upgrade to Pro (Lifetime)  0.000000  0.000000  0.000000   \n",
       "Home is Where One Starts...                 0.816497  0.707107  0.816497   \n",
       "\n",
       "                                              421670  290401  97379    741281  \n",
       "Nombre_juego                                                                   \n",
       "Call of the Ninja!                          0.353553     0.0    0.0  0.632456  \n",
       "Maze: Subject 360 Collector's Edition       0.000000     0.0    0.0  0.632456  \n",
       "Big Thinkers 1st Grade                      0.000000     0.0    0.0  0.447214  \n",
       "Driver Booster 4 Upgrade to Pro (Lifetime)  0.000000     0.0    0.0  0.000000  \n",
       "Home is Where One Starts...                 0.353553     0.0    0.0  0.632456  \n",
       "\n",
       "[5 rows x 2733 columns]"
      ]
     },
     "execution_count": 17,
     "metadata": {},
     "output_type": "execute_result"
    }
   ],
   "source": [
    "zip_file = 'PI_1.zip'\n",
    "    \n",
    "with zipfile.ZipFile(zip_file, 'r') as zip_ref:\n",
    "        zip_ref.extractall('../data/')  # Descomprime los archivos en el directorio '../data/'           \n",
    "        \n",
    "# Leer el DataFrame desde el archivo CSV\n",
    "dataframe = pd.read_csv(\"../data/recomendacion_juego.csv\")\n",
    "dataframe = dataframe.set_index('Nombre_juego')\n",
    "dataframe.head()"
   ]
  },
  {
   "cell_type": "code",
   "execution_count": 29,
   "metadata": {},
   "outputs": [],
   "source": [
    "def recomendacion_juego(id_juego:str):\n",
    "\n",
    "    # Obtener la columna correspondiente al juego dado\n",
    "    columna_juego = dataframe[id_juego]\n",
    "    \n",
    "    # Obtener los juegos con los mejores puntajes (menores que 1)\n",
    "    Juegos = columna_juego[columna_juego < 1.0].sort_values(ascending=False).head(5).index.tolist()\n",
    "\n",
    "    return Juegos"
   ]
  },
  {
   "cell_type": "code",
   "execution_count": 30,
   "metadata": {},
   "outputs": [
    {
     "name": "stdout",
     "output_type": "stream",
     "text": [
      "Juegos recomendados similares a ID n°'350330': ['Call of the Ninja!', 'Underground Keeper', 'Cube Link', 'Pony World 3', 'Zasa - An AI Story']\n"
     ]
    }
   ],
   "source": [
    "id_juego = \"350330\"\n",
    "resultados = recomendacion_juego(id_juego)\n",
    "\n",
    "print(f\"Juegos recomendados similares a ID n°'{id_juego}': {resultados}\")"
   ]
  }
 ],
 "metadata": {
  "kernelspec": {
   "display_name": "Python 3",
   "language": "python",
   "name": "python3"
  },
  "language_info": {
   "codemirror_mode": {
    "name": "ipython",
    "version": 3
   },
   "file_extension": ".py",
   "mimetype": "text/x-python",
   "name": "python",
   "nbconvert_exporter": "python",
   "pygments_lexer": "ipython3",
   "version": "3.11.3"
  }
 },
 "nbformat": 4,
 "nbformat_minor": 2
}
